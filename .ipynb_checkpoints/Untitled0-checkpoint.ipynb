{
 "metadata": {
  "name": "",
  "signature": "sha256:db1c07ea0056786e06d9ce206705f092bbfcd690c9f6003290600ed9b68ff5ea"
 },
 "nbformat": 3,
 "nbformat_minor": 0,
 "worksheets": []
}